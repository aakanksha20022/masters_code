{
 "cells": [
  {
   "cell_type": "code",
   "execution_count": 1,
   "id": "bf11a8a2-da4f-4b37-9efb-34dfb3d0d618",
   "metadata": {},
   "outputs": [
    {
     "name": "stdout",
     "output_type": "stream",
     "text": [
      "[55.611]\n",
      "[60.175]\n"
     ]
    }
   ],
   "source": [
    "import pandas as pd\n",
    "from my_package.my_mod import predict_high\n",
    "from my_package.my_mod import predict_low\n",
    "\n",
    "new_data = {\n",
    "    'inf_para': [35],\n",
    "    'blood': [45],\n",
    "    'endocrine': [32.0],\n",
    "    'mental': [999],\n",
    "    'nervous': [999],\n",
    "    'eye': [78],\n",
    "    'ear': [999],\n",
    "    'circ': [50.0],\n",
    "    'resp': [999],\n",
    "    'digestive': [55.0],\n",
    "    'skin': [54.0],\n",
    "    'muscle': [54.0],\n",
    "    'genitourino': [999],\n",
    "    'pregnancy': [999],\n",
    "    'perinatal': [999],\n",
    "    'congenital': [44.0]\n",
    "}\n",
    "new_df = pd.DataFrame(new_data)\n",
    "predictions_high = predict_high(new_df)\n",
    "predictions_low= predict_low(new_df)\n",
    "print(predictions_high)\n",
    "print(predictions_low)"
   ]
  },
  {
   "cell_type": "code",
   "execution_count": null,
   "id": "5fe2f809-d062-4f47-a1a5-19b599616b21",
   "metadata": {},
   "outputs": [],
   "source": []
  }
 ],
 "metadata": {
  "kernelspec": {
   "display_name": "Python 3 (ipykernel)",
   "language": "python",
   "name": "python3"
  },
  "language_info": {
   "codemirror_mode": {
    "name": "ipython",
    "version": 3
   },
   "file_extension": ".py",
   "mimetype": "text/x-python",
   "name": "python",
   "nbconvert_exporter": "python",
   "pygments_lexer": "ipython3",
   "version": "3.11.7"
  }
 },
 "nbformat": 4,
 "nbformat_minor": 5
}
