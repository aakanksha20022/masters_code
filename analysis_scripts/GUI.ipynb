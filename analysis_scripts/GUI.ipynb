{
 "cells": [
  {
   "cell_type": "code",
   "execution_count": 98,
   "id": "7cc04eab-d27f-4955-9a28-a664c8026565",
   "metadata": {},
   "outputs": [],
   "source": [
    "#Importing relevant modules\n",
    "import tkinter as tk\n",
    "from tkinter import messagebox\n",
    "import pandas as pd\n",
    "import numpy as np\n",
    "from joblib import load, dump\n",
    "import shap\n",
    "import matplotlib.pyplot as plt\n",
    "from PIL import Image, ImageTk"
   ]
  },
  {
   "cell_type": "code",
   "execution_count": 99,
   "id": "45c99ce7-5c6f-4324-9cf5-5c0ee2af32e8",
   "metadata": {},
   "outputs": [],
   "source": [
    "# Setting matplotlib to use 'Agg' backend\n",
    "#Non-interactive backend\n",
    "plt.switch_backend('Agg')\n"
   ]
  },
  {
   "cell_type": "markdown",
   "id": "f6b064c0-932c-4a92-9287-0a6c3282bb74",
   "metadata": {},
   "source": [
    "Loading the random forest models trained to predict the age of leukaemia onset from the age of onset of other broad disease categories (first occurrence chapters) within the UK Biobank."
   ]
  },
  {
   "cell_type": "code",
   "execution_count": 100,
   "id": "a4f3220a-9b18-4976-91d3-00d45a31e6a2",
   "metadata": {},
   "outputs": [],
   "source": [
    "# Loading the trained models for IMD high and low categories\n",
    "loaded_rf_final_high = load(\"C:/Users/Aakanksha Choudhary/OneDrive/Desktop/project/rf_final_high_model.joblib\")\n",
    "loaded_rf_final_low = load(\"C:/Users/Aakanksha Choudhary/OneDrive/Desktop/project/rf_final_low_model.joblib\")\n",
    "\n",
    "# Defining the features that the user will input\n",
    "features = ['infectious_parasitic', 'blood', 'endocrine_system', 'mental', 'nervous_system', 'eye', 'ear',\n",
    "            'circulatory_system', 'respiratory_system', 'digestive_system', 'skin', 'musculoskeletal_system', 'genitourinary_system', 'pregnancy',\n",
    "            'perinatal', 'congenital']"
   ]
  },
  {
   "cell_type": "markdown",
   "id": "d0f59e6e-a6cc-495b-ba35-de83dbbfe5f6",
   "metadata": {},
   "source": [
    "Creating a function to display the SHAP force plot for each prediction. The force plot for each individual prediction shows the direction that each contributing feature pushes the prediction in (negative or positive) "
   ]
  },
  {
   "cell_type": "code",
   "execution_count": 101,
   "id": "7fe566d5-0f66-4b4c-8d82-5651dec7ec28",
   "metadata": {},
   "outputs": [],
   "source": [
    "def display_shap_plot(explainer, shap_values, input_data):\n",
    "    # Creating a force plot\n",
    "    shap.force_plot(explainer.expected_value, shap_values, input_data, matplotlib=True)\n",
    "    plt.savefig(\"shap_force_plot.png\", bbox_inches='tight', dpi=70)  # Saving the plot as an image\n",
    "    plt.close()\n",
    "\n",
    "    # Displaying the SHAP plot in a new Tkinter window\n",
    "    shap_window = tk.Toplevel(root)\n",
    "    shap_window.title(\"SHAP Force Plot\")\n",
    "\n",
    "    img = Image.open(\"shap_force_plot.png\")\n",
    "    img = ImageTk.PhotoImage(img)\n",
    "\n",
    "    panel = tk.Label(shap_window, image=img)\n",
    "    panel.image = img  # Keeiping a reference to avoid garbage collection\n",
    "    panel.pack()"
   ]
  },
  {
   "cell_type": "markdown",
   "id": "11716190-fa2b-45fe-a13a-e4d80ce8a25c",
   "metadata": {},
   "source": [
    "Creating a function to predict the age of leukaemia onset by utilising the random forest models. The user can input the ages, choose the category based on the deprivation (high and low) and a message box will pop up desplaying the predicted age.\n",
    "\n"
   ]
  },
  {
   "cell_type": "code",
   "execution_count": 102,
   "id": "19fcdb25-2ad4-469c-8f61-17bf5f78818b",
   "metadata": {},
   "outputs": [],
   "source": [
    "def predict_age_of_cancer_onset():\n",
    "    try:\n",
    "        # Empty list to store the user input values\n",
    "        input_data = []\n",
    "        for feature in features:\n",
    "            # Getting the user value for the current feature\n",
    "            value = entries[feature].get()\n",
    "            # If no input value, assuming the age to be 999\n",
    "            if value == '':\n",
    "                input_data.append(999)\n",
    "            else:\n",
    "                input_data.append(float(value))\n",
    "\n",
    "        # Creating DataFrame for prediction\n",
    "        input_df = pd.DataFrame([input_data], columns=features)\n",
    "\n",
    "        # Selecting model based on user choice\n",
    "        if model_choice.get() == \"High\":\n",
    "            model = loaded_rf_final_high\n",
    "        else:\n",
    "            model = loaded_rf_final_low\n",
    "\n",
    "        # Prediction\n",
    "        prediction = model.predict(input_df)[0]\n",
    "\n",
    "        # SHAP explanation\n",
    "        explainer = shap.TreeExplainer(model)\n",
    "        shap_values = explainer.shap_values(input_df)\n",
    "\n",
    "        # Displaying the prediction\n",
    "        messagebox.showinfo(\"Prediction\", f\"Predicted Age of Cancer Onset: {prediction:.2f} years\")\n",
    "\n",
    "        # Display SHAP plot\n",
    "        display_shap_plot(explainer, shap_values, input_df.iloc[0, :])\n",
    "\n",
    "    except ValueError as ve:\n",
    "        messagebox.showerror(\"Value Error\", str(ve))\n",
    "    except Exception as e:\n",
    "        messagebox.showerror(\"Error\", str(e))\n"
   ]
  },
  {
   "cell_type": "markdown",
   "id": "363dd1f0-9b1c-4c0b-a102-1dcf5993290b",
   "metadata": {},
   "source": [
    "GUI CREATION USING TKINTER"
   ]
  },
  {
   "cell_type": "code",
   "execution_count": 103,
   "id": "af348edc-7e47-4b1d-8d98-e01f712a6f0d",
   "metadata": {},
   "outputs": [],
   "source": [
    "# Creating the main window\n",
    "root = tk.Tk()\n",
    "root.title(\"Age of Cancer Onset Prediction\")\n",
    "root.configure(bg='lightblue')\n",
    "root.geometry(\"500x600\")\n",
    "\n",
    "# Defining font style and size for labels\n",
    "label_font = (\"Arial\", 10)\n"
   ]
  },
  {
   "cell_type": "code",
   "execution_count": 104,
   "id": "e5463ff8-5d2f-43d3-bcc8-98c0c2b0f808",
   "metadata": {},
   "outputs": [],
   "source": [
    "# Creating input fields for each feature\n",
    "#Empty dictionary to store user entries\n",
    "entries = {}\n",
    "for feature in features:\n",
    "    #Root frame\n",
    "    frame = tk.Frame(root)\n",
    "    frame.pack(padx=10, pady=10)\n",
    "\n",
    "    #Label formatting\n",
    "    label = tk.Label(frame, text=feature, width=20, anchor='w')\n",
    "    label.pack(side='left', padx=5)\n",
    "\n",
    "    #Creating the entry widget\n",
    "    entry = tk.Entry(frame)\n",
    "    entry.pack(side='right', padx=5)\n",
    "\n",
    "    #Assigning entry values to each feature and storing the feature as a key and the user entry as a value in the dictionary\n",
    "    entries[feature] = entry\n",
    "\n"
   ]
  },
  {
   "cell_type": "code",
   "execution_count": 105,
   "id": "50f22a5a-843f-4515-a5b6-1bbe5f164a79",
   "metadata": {},
   "outputs": [],
   "source": [
    "# Creating a frame for model selection\n",
    "model_frame = tk.Frame(root, bg='lightblue')\n",
    "model_frame.pack(padx=10, pady=10)\n",
    "\n",
    "# Creating radio buttons for model selection\n",
    "model_choice = tk.StringVar(value=\"High\")\n",
    "high_model_rb = tk.Radiobutton(model_frame, text=\"High Model\", variable=model_choice, value=\"High\", bg='lightblue', font=label_font)\n",
    "low_model_rb = tk.Radiobutton(model_frame, text=\"Low Model\", variable=model_choice, value=\"Low\", bg='lightblue', font=label_font)\n",
    "high_model_rb.pack(side='left', padx=5)\n",
    "low_model_rb.pack(side='right', padx=5)"
   ]
  },
  {
   "cell_type": "code",
   "execution_count": null,
   "id": "2dacd040-6f15-4aed-903d-074dd0b251e1",
   "metadata": {},
   "outputs": [],
   "source": [
    "# Creating the prediction button\n",
    "#Takes in the predict age of cancer onset fu\n",
    "predict_button = tk.Button(root, text=\"Predict\", command=predict_age_of_cancer_onset, bg='lightblue', font=label_font)\n",
    "predict_button.pack(pady=20)\n",
    "\n",
    "# Start the Tkinter event loop\n",
    "root.mainloop()"
   ]
  },
  {
   "cell_type": "code",
   "execution_count": null,
   "id": "3628076e-93ae-4bdd-bd25-9951f257b320",
   "metadata": {},
   "outputs": [],
   "source": []
  }
 ],
 "metadata": {
  "kernelspec": {
   "display_name": "Python 3 (ipykernel)",
   "language": "python",
   "name": "python3"
  },
  "language_info": {
   "codemirror_mode": {
    "name": "ipython",
    "version": 3
   },
   "file_extension": ".py",
   "mimetype": "text/x-python",
   "name": "python",
   "nbconvert_exporter": "python",
   "pygments_lexer": "ipython3",
   "version": "3.11.7"
  }
 },
 "nbformat": 4,
 "nbformat_minor": 5
}
